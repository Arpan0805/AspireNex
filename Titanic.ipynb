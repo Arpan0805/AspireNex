{
  "nbformat": 4,
  "nbformat_minor": 0,
  "metadata": {
    "colab": {
      "provenance": [],
      "mount_file_id": "18EA2ohSNQklRdWgRjNkSrI0Zpx85UT2x",
      "authorship_tag": "ABX9TyOe804KreFkrpwyFoIXllZZ",
      "include_colab_link": true
    },
    "kernelspec": {
      "name": "python3",
      "display_name": "Python 3"
    },
    "language_info": {
      "name": "python"
    }
  },
  "cells": [
    {
      "cell_type": "markdown",
      "metadata": {
        "id": "view-in-github",
        "colab_type": "text"
      },
      "source": [
        "<a href=\"https://colab.research.google.com/github/Arpan0805/AspireNex/blob/main/Titanic.ipynb\" target=\"_parent\"><img src=\"https://colab.research.google.com/assets/colab-badge.svg\" alt=\"Open In Colab\"/></a>"
      ]
    },
    {
      "cell_type": "code",
      "execution_count": 7,
      "metadata": {
        "id": "ITNH9_TbJOuC"
      },
      "outputs": [],
      "source": [
        "import pandas as pd\n",
        "from sklearn.model_selection import train_test_split\n",
        "from sklearn.preprocessing import StandardScaler\n",
        "from sklearn.impute import SimpleImputer\n",
        "from sklearn.ensemble import RandomForestClassifier\n",
        "from sklearn.metrics import accuracy_score, classification_report, confusion_matrix\n",
        "\n",
        "# Load the data\n",
        "df = pd.read_csv('/content/drive/MyDrive/Titanic/titanic.csv')"
      ]
    },
    {
      "cell_type": "code",
      "source": [
        "# Select features\n",
        "features = ['Pclass', 'Sex', 'Age', 'SibSp', 'Parch', 'Fare', 'Embarked']\n",
        "X = df[features]\n",
        "y = df['Survived']\n",
        "\n",
        "# Convert categorical variables to numeric\n",
        "X['Sex'] = X['Sex'].map({'male': 0, 'female': 1})\n",
        "X['Embarked'] = X['Embarked'].map({'S': 0, 'C': 1, 'Q': 2})\n",
        "\n",
        "# Handle missing values\n",
        "imputer = SimpleImputer(strategy='median')\n",
        "X = pd.DataFrame(imputer.fit_transform(X), columns=X.columns)\n",
        "\n",
        "# Scale the features\n",
        "scaler = StandardScaler()\n",
        "X = pd.DataFrame(scaler.fit_transform(X), columns=X.columns)\n",
        "\n",
        "# Split the data into training and testing sets\n",
        "X_train, X_test, y_train, y_test = train_test_split(X, y, test_size=0.2, random_state=42)"
      ],
      "metadata": {
        "id": "qHVmaDoAJWez",
        "colab": {
          "base_uri": "https://localhost:8080/"
        },
        "outputId": "3a7ae3b6-40ff-44bb-a080-27137072f35b"
      },
      "execution_count": 8,
      "outputs": [
        {
          "output_type": "stream",
          "name": "stderr",
          "text": [
            "<ipython-input-8-77dec97650ed>:7: SettingWithCopyWarning: \n",
            "A value is trying to be set on a copy of a slice from a DataFrame.\n",
            "Try using .loc[row_indexer,col_indexer] = value instead\n",
            "\n",
            "See the caveats in the documentation: https://pandas.pydata.org/pandas-docs/stable/user_guide/indexing.html#returning-a-view-versus-a-copy\n",
            "  X['Sex'] = X['Sex'].map({'male': 0, 'female': 1})\n",
            "<ipython-input-8-77dec97650ed>:8: SettingWithCopyWarning: \n",
            "A value is trying to be set on a copy of a slice from a DataFrame.\n",
            "Try using .loc[row_indexer,col_indexer] = value instead\n",
            "\n",
            "See the caveats in the documentation: https://pandas.pydata.org/pandas-docs/stable/user_guide/indexing.html#returning-a-view-versus-a-copy\n",
            "  X['Embarked'] = X['Embarked'].map({'S': 0, 'C': 1, 'Q': 2})\n"
          ]
        }
      ]
    },
    {
      "cell_type": "code",
      "source": [
        "# Create and train the model\n",
        "rf_model = RandomForestClassifier(n_estimators=100, random_state=42)\n",
        "rf_model.fit(X_train, y_train)\n",
        "\n",
        "# Make predictions\n",
        "y_pred = rf_model.predict(X_test)\n",
        "\n",
        "# Evaluate the model\n",
        "accuracy = accuracy_score(y_test, y_pred)\n",
        "print(f\"Accuracy: {accuracy:.2f}\")\n",
        "print(\"\\nClassification Report:\")\n",
        "print(classification_report(y_test, y_pred))\n"
      ],
      "metadata": {
        "colab": {
          "base_uri": "https://localhost:8080/"
        },
        "id": "o3uTjpzmPV5W",
        "outputId": "d14cb51a-ade5-4805-b3c2-c5b2921d0f33"
      },
      "execution_count": 9,
      "outputs": [
        {
          "output_type": "stream",
          "name": "stdout",
          "text": [
            "Accuracy: 1.00\n",
            "\n",
            "Classification Report:\n",
            "              precision    recall  f1-score   support\n",
            "\n",
            "           0       1.00      1.00      1.00        50\n",
            "           1       1.00      1.00      1.00        34\n",
            "\n",
            "    accuracy                           1.00        84\n",
            "   macro avg       1.00      1.00      1.00        84\n",
            "weighted avg       1.00      1.00      1.00        84\n",
            "\n"
          ]
        }
      ]
    },
    {
      "cell_type": "code",
      "source": [
        "# Now, let's predict for a new passenger\n",
        "new_passenger = pd.DataFrame({\n",
        "    'Pclass': [3],\n",
        "    'Sex': ['male'],\n",
        "    'Age': [25],\n",
        "    'SibSp': [0],\n",
        "    'Parch': [0],\n",
        "    'Fare': [7.25],\n",
        "    'Embarked': ['S']\n",
        "})\n",
        "\n",
        "# Convert categorical variables to numeric for the new passenger\n",
        "new_passenger['Sex'] = new_passenger['Sex'].map({'male': 0, 'female': 1})\n",
        "new_passenger['Embarked'] = new_passenger['Embarked'].map({'S': 0, 'C': 1, 'Q': 2})\n",
        "\n",
        "# Apply the same preprocessing steps to the new passenger data\n",
        "new_passenger = pd.DataFrame(imputer.transform(new_passenger), columns=new_passenger.columns)\n",
        "new_passenger = pd.DataFrame(scaler.transform(new_passenger), columns=new_passenger.columns)\n",
        "\n",
        "# Make a prediction for the new passenger\n",
        "prediction = rf_model.predict(new_passenger)\n",
        "probability = rf_model.predict_proba(new_passenger)\n",
        "\n",
        "print(\"\\nPrediction for new passenger:\")\n",
        "print(\"Survived\" if prediction[0] == 1 else \"Did not survive\")\n",
        "print(f\"Probability of survival: {probability[0][1]:.2f}\")"
      ],
      "metadata": {
        "colab": {
          "base_uri": "https://localhost:8080/"
        },
        "id": "DIHETVID8Ytf",
        "outputId": "42df52f3-2ab3-4729-b717-eb5355f78338"
      },
      "execution_count": 10,
      "outputs": [
        {
          "output_type": "stream",
          "name": "stdout",
          "text": [
            "\n",
            "Prediction for new passenger:\n",
            "Did not survive\n",
            "Probability of survival: 0.00\n"
          ]
        }
      ]
    }
  ]
}